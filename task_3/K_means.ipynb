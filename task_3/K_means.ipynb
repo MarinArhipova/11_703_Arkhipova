{
 "cells": [
  {
   "cell_type": "markdown",
   "metadata": {},
   "source": [
    "# K-means"
   ]
  },
  {
   "cell_type": "markdown",
   "metadata": {},
   "source": [
    "#### Суть:\n",
    "\n",
    "   Наиболее простой, но в то же время достаточно неточный метод кластеризации в классической реализации. Он разбивает множество элементов векторного пространства на заранее известное число кластеров k. Основная идея заключается в том, что на каждой итерации перевычисляется центр масс для каждого кластера, полученного на предыдущем шаге, затем векторы разбиваются на кластеры вновь в соответствии с тем, какой из новых центров оказался ближе по выбранной метрике. Алгоритм завершается, когда на какой-то итерации не происходит изменения кластеров."
   ]
  },
  {
   "cell_type": "markdown",
   "metadata": {},
   "source": [
    "#### Алгоритм:\n",
    "    \n",
    "1. Нужно наперед знать в сколько кластеров нужно распределить данные. \n",
    "2. Нужно выбрать начальные центры наших кластеров (наугад). Чтобы можно было привязывать каждую точку к центру кластера. Центр – это как Король, вокруг которого собираются его подданные — точки. Именно «расстояние» от центра до точки определяет, кому будет подчиняться каждая точка.\n",
    "3. Посчитаем расстояние от каждого центра до каждой точки. Это расстояние считается как евклидово расстояние между точками в пространстве. Для центра расстояние, до которого является наименьшим, пересчитываем координаты, как среднее арифметическое между каждой составляющей точки–короля и точки—подданного. Наш центр смещается в пространстве соответственно подсчетам.\n",
    "4. После пересчета всех центров, мы распределяем точки по кластерам, сравнивая расстояние от каждой точки до центров. Точка помещается в кластер, к центру которого он расположен ближе, чем к остальным центрам.\n",
    "5. Все начинается сначала, до тех пор, пока точки остаются в одних и тех же кластерах. Часто такого может и не случится, так как при большом количестве данных центры будут перемещаться в малом радиусе, и точки по краям кластеров будут прыгать то в один, то в другой кластер. Для этого нужно определить максимальное число итераций."
   ]
  },
  {
   "cell_type": "code",
   "execution_count": 15,
   "metadata": {},
   "outputs": [],
   "source": [
    "import pandas as pd\n",
    "import matplotlib.pyplot as plt\n",
    "import numpy as np\n",
    "import seaborn as sns"
   ]
  },
  {
   "cell_type": "markdown",
   "metadata": {},
   "source": [
    "Для того, чтобы сравнивать два объекта, необходимо иметь критерий, на основании которого будет происходить сравнение. Как правило, таким критерием является расстояние между объектами."
   ]
  },
  {
   "cell_type": "code",
   "execution_count": 59,
   "metadata": {},
   "outputs": [],
   "source": [
    "# рассчитать евклидово расстояние между двумя точками\n",
    "def dist(x1, y1, x2, y2):\n",
    "    return np.sqrt((x1 - x2)**2 + (y1 - y2)**2)\n",
    "\n",
    "\n",
    "# рассчитать сумму квадратов расстояний от точек до центров их классов\n",
    "def find_sum_sqr_dist(k, df, x_c, y_c):\n",
    "    j = 0\n",
    "    for c in range(k):\n",
    "        for i in range(len(x)):\n",
    "            if df['cluster'][i] == c:\n",
    "                j += dist(df['x'][i], df['y'][i], x_c[c], y_c[c])**2\n",
    "    return j"
   ]
  },
  {
   "cell_type": "code",
   "execution_count": 60,
   "metadata": {},
   "outputs": [],
   "source": [
    "# найти первоначальный центр\n",
    "def find_centers(x, y, k):\n",
    "    # x_c - x center\n",
    "    x_c = np.mean(x)\n",
    "    y_c = np.mean(y)\n",
    "    R = 0\n",
    "    for i in range(0,n):\n",
    "        if dist(x[i], y[i], x_c, y_c) > R:\n",
    "            R = dist(x[i], y[i], x_c, y_c)\n",
    "    x_cc, y_cc = [], []\n",
    "    x_cc = [R * np.cos(2 * np.pi * i / k) + x_c for i in range(k)]\n",
    "    y_cc = [R * np.sin(2 * np.pi * i / k) + y_c for i in range(k)]\n",
    "    return x_cc, y_cc"
   ]
  },
  {
   "cell_type": "code",
   "execution_count": 61,
   "metadata": {},
   "outputs": [],
   "source": [
    "# Построить кластеры\n",
    "def build_clusters(k, x, y, x_cc, y_cc):\n",
    "    clust = []\n",
    "    R = 0\n",
    "    for i in range(0, n):\n",
    "        R = dist(x[i], y[i], x_cc[0], y_cc[0])\n",
    "        numb = 0\n",
    "        for j in range(0, k):\n",
    "            if R > dist(x[i], y[i], x_cc[j], y_cc[j]):\n",
    "                R = dist(x[i], y[i], x_cc[j], y_cc[j])\n",
    "                numb = j\n",
    "        clust.append(numb)\n",
    "    return clust\n",
    "\n",
    "\n",
    "# Перерасчитать центры кластеров\n",
    "def recalculate_cluster_centers(x, y, x_c, y_c, clust, k):\n",
    "    for i in range(k):\n",
    "        n = sum(el == i for el in clust)\n",
    "        sum_x = sum(x[j] for j in range(len(clust)) if clust[j] == i)\n",
    "        sum_y = sum(y[j] for j in range(len(clust)) if clust[j] == i)\n",
    "        x_c[i] = sum_x / n if n != 0 else 0\n",
    "        y_c[i] = sum_y / n if n != 0 else 0\n",
    "\n",
    "\n",
    "# график кластеров и их центров\n",
    "def draw_c(df, x_column, y_column, cluster_column, x_c, y_c, title):\n",
    "    facet = sns.lmplot(data=df, x=x_column, y=y_column, hue=cluster_column,\n",
    "                   fit_reg=False, legend=True, legend_out=True)\n",
    "    plt.scatter(x_c, y_c, s=150, marker='*')\n",
    "    plt.title(title)"
   ]
  },
  {
   "cell_type": "code",
   "execution_count": 62,
   "metadata": {},
   "outputs": [],
   "source": [
    "def k_means(k, x, y, sh_grph=True):\n",
    "    n = len(x)\n",
    "    df = pd.DataFrame()\n",
    "    df['x'] = x\n",
    "    df['y'] = y\n",
    "    df['cluster'] = [0] * n\n",
    "    # найти первоначальный центр\n",
    "    x_c, y_c = find_centers(df['x'], df['y'], k)\n",
    "    while True:\n",
    "        # Построить кластеры\n",
    "        clusters = build_clusters(k, df['x'], df['y'], x_c, y_c)\n",
    "        if np.array_equal(clusters, df['cluster']):\n",
    "            if sh_grph: draw_c(df, 'x', 'y', 'cluster', x_c, y_c, 'k-means')\n",
    "            break\n",
    "        else:\n",
    "            df['cluster'] = clusters\n",
    "            # Перерасчитать центры кластеров\n",
    "            recalculate_cluster_centers(df['x'], df['y'], x_c, y_c, clusters, k)\n",
    "    return df, x_c, y_c"
   ]
  },
  {
   "cell_type": "markdown",
   "metadata": {},
   "source": [
    "#### Подбор оптимального значения  k (кол-во кластеров)"
   ]
  },
  {
   "cell_type": "code",
   "execution_count": 63,
   "metadata": {},
   "outputs": [],
   "source": [
    "# Метод суммы квадратов\n",
    "def choose_optimal_value_k(x, y, alpha):\n",
    "    df, x_c, y_c = k_means(1, x, y, False)\n",
    "    old_j = find_sum_sqr_dist(1, df, x_c, y_c)\n",
    "    for k in range(2, 50):\n",
    "        df, x_c, y_c = k_means(k, x, y, False)\n",
    "        j = find_sum_sqr_dist(k, df, x_c, y_c)\n",
    "        if old_j - j <= alpha:\n",
    "            print('Оптимальное значение k = {0} : {1}'.format(alpha, k))\n",
    "            return\n",
    "        old_j = j\n",
    "    print('Оптимальное значение k = {0} : {1}'.format(alpha, k))"
   ]
  },
  {
   "cell_type": "markdown",
   "metadata": {},
   "source": [
    "#### Проверка"
   ]
  },
  {
   "cell_type": "code",
   "execution_count": 64,
   "metadata": {},
   "outputs": [
    {
     "data": {
      "image/png": "[encoded data removed]",
      "text/plain": [
       "<Figure size 432x288 with 1 Axes>"
      ]
     },
     "metadata": {
      "needs_background": "light"
     },
     "output_type": "display_data"
    }
   ],
   "source": [
    "n, k = 100, 4\n",
    "x = np.random.randint(1, 100, n)\n",
    "y = np.random.randint(1, 100, n)\n",
    "plt.scatter(x,y)\n",
    "plt.show()"
   ]
  },
  {
   "cell_type": "code",
   "execution_count": 65,
   "metadata": {},
   "outputs": [
    {
     "name": "stdout",
     "output_type": "stream",
     "text": [
      "Оптимальное значение k = 0.8 : 21\n"
     ]
    }
   ],
   "source": [
    "choose_optimal_value_k(x, y, 0.8)"
   ]
  },
  {
   "cell_type": "code",
   "execution_count": 66,
   "metadata": {},
   "outputs": [
    {
     "data": {
      "image/png": "[encoded data removed]",
      "text/plain": [
       "<Figure size 402.375x360 with 1 Axes>"
      ]
     },
     "metadata": {
      "needs_background": "light"
     },
     "output_type": "display_data"
    }
   ],
   "source": [
    "df, x_c, y_c = k_means(10, x, y, True)"
   ]
  }
 ],
 "metadata": {
  "kernelspec": {
   "display_name": "Python 3",
   "language": "python",
   "name": "python3"
  },
  "language_info": {
   "codemirror_mode": {
    "name": "ipython",
    "version": 3
   },
   "file_extension": ".py",
   "mimetype": "text/x-python",
   "name": "python",
   "nbconvert_exporter": "python",
   "pygments_lexer": "ipython3",
   "version": "3.8.3"
  }
 },
 "nbformat": 4,
 "nbformat_minor": 4
}
