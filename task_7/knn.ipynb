{
 "cells": [
  {
   "cell_type": "markdown",
   "metadata": {},
   "source": [
    "# K Nearest Neighbor "
   ]
  },
  {
   "cell_type": "markdown",
   "metadata": {},
   "source": [
    "или k Ближайших Соседей — это один из самых простых алгоритмов классификации.\n",
    "\n",
    "### Алгоритм\n",
    "\n",
    "Для классификации каждого из объектов тестовой выборки необходимо последовательно выполнить следующие операции:\n",
    "\n",
    "* Вычислить расстояние до каждого из объектов обучающей выборки\n",
    "\n",
    "* Отобрать k объектов обучающей выборки, расстояние до которых минимально\n",
    "\n",
    "* Класс классифицируемого объекта — это класс, наиболее часто встречающийся среди k ближайших соседей"
   ]
  },
  {
   "cell_type": "code",
   "execution_count": 32,
   "metadata": {},
   "outputs": [],
   "source": [
    "import numpy as np\n",
    "import pandas as pd\n",
    "import pylab as pl\n",
    "import math\n",
    "import random"
   ]
  },
  {
   "cell_type": "markdown",
   "metadata": {},
   "source": [
    "Для решения данной задачи нам потребуется задать начальные\n",
    "данные в качестве обучающей выборке. Это можно сделать тремя\n",
    "способами:\n",
    "\n",
    "1) взять точки на плоскости и решать для них задачу кластеризации\n",
    "одним из способов выше;\n",
    "\n",
    "2) взять какой-то набор данных из интернета и работать с ним;\n",
    "\n",
    "3) использовать следующий код для случайного задания этой выборки"
   ]
  },
  {
   "cell_type": "code",
   "execution_count": 33,
   "metadata": {},
   "outputs": [],
   "source": [
    "# Сгенерируем данные, на которых будут производиться эксперименты\n",
    "def generateData (numberOfClassEl, numberOfClasses):\n",
    "    data = []\n",
    "    for classNum in range(numberOfClasses):\n",
    "# Выбрать случайный центр двумерного гаусса\n",
    "        centerX, centerY = random.random()*5.0, random.random()*5.0\n",
    "        for rowNum in range(numberOfClassEl):\n",
    "            data.append([ [random.gauss(centerX, 0.5), random.gauss(centerY, 0.5)], classNum ])\n",
    "    return data\n",
    "\n",
    "# Для простоты выбрано двумерное пространство, в котором случайным образом на участке от 0 до 5 по каждой из осей \n",
    "# выбирается местоположение мат.ожидания двумерного гауссиана со среднеквадратичным отклонением 0.5. \n",
    "# Значение 0.5 выбрано, чтобы объекты оказались достаточно хорошо разделимыми (правило трех сигм)."
   ]
  },
  {
   "cell_type": "code",
   "execution_count": 57,
   "metadata": {},
   "outputs": [],
   "source": [
    "from matplotlib.colors import ListedColormap\n",
    "\n",
    "def showData (nClasses, nItemsInClass):\n",
    "    trainData      = generateData (nItemsInClass, nClasses)\n",
    "    classColormap  = ListedColormap(['#FF0000', '#00FF00', '#2036f7'])\n",
    "    pl.scatter([trainData[i][0][0] for i in range(len(trainData))],\n",
    "               [trainData[i][0][1] for i in range(len(trainData))],\n",
    "               c=[trainData[i][1] for i in range(len(trainData))],\n",
    "               cmap=classColormap)\n",
    "    pl.show()   "
   ]
  },
  {
   "cell_type": "code",
   "execution_count": 35,
   "metadata": {},
   "outputs": [],
   "source": [
    "# Теперь нам нужно разбить это множество на две части: обучающую выбору и тестовую выборку\n",
    "def splitTrainTest (data, testPercent):\n",
    "    trainData = []\n",
    "    testData  = []\n",
    "    for row in data:\n",
    "        if random.random() < testPercent:\n",
    "            testData.append(row)\n",
    "        else:\n",
    "            trainData.append(row)\n",
    "    return trainData, testData"
   ]
  },
  {
   "cell_type": "code",
   "execution_count": 36,
   "metadata": {},
   "outputs": [],
   "source": [
    "# Евклидово расстояние между 2 точками\n",
    "def dist (a, b):\n",
    "    return math.sqrt((a[0] - b[0])**2 + (a[1] - b[1])**2)"
   ]
  },
  {
   "cell_type": "code",
   "execution_count": 37,
   "metadata": {},
   "outputs": [],
   "source": [
    "# Реализация классификатора\n",
    "def classifyKNN (trainData, testData, k, numberOfClasses):\n",
    "    testLabels = []\n",
    "    for testPoint in testData:\n",
    "        # Рассчитать расстояние между test point и всеми train points\n",
    "        testDist = [ [dist(testPoint, trainData[i][0]), trainData[i][1]] for i in range(len(trainData))]\n",
    "        # Сколько points каждого класса среди ближайших K\n",
    "        stat = [0 for i in range(numberOfClasses)]\n",
    "        for d in sorted(testDist)[0:k]:\n",
    "            stat[d[1]] += 1\n",
    "        # Назначить класс с наибольшим количеством вхождений среди K ближайших соседей\n",
    "        testLabels.append( sorted(zip(stat, range(numberOfClasses)), reverse=True)[0][1] )\n",
    "    return testLabels"
   ]
  },
  {
   "cell_type": "code",
   "execution_count": 54,
   "metadata": {},
   "outputs": [],
   "source": [
    "# Визуализация\n",
    "def showDataOnMesh (nClasses, nItemsInClass, k):\n",
    "    # Создание сетки узлов, охватывающую все случаи train\n",
    "    def generateTestMesh (trainData):\n",
    "        x_min = min( [trainData[i][0][0] for i in range(len(trainData))] ) - 1.0\n",
    "        x_max = max( [trainData[i][0][0] for i in range(len(trainData))] ) + 1.0\n",
    "        y_min = min( [trainData[i][0][1] for i in range(len(trainData))] ) - 1.0\n",
    "        y_max = max( [trainData[i][0][1] for i in range(len(trainData))] ) + 1.0\n",
    "        h = 0.05\n",
    "        testX, testY = np.meshgrid(np.arange(x_min, x_max, h),\n",
    "                                   np.arange(y_min, y_max, h))\n",
    "        return [testX, testY]\n",
    "    trainData      = generateData (nItemsInClass, nClasses)\n",
    "    testMesh       = generateTestMesh (trainData)\n",
    "    testMeshLabels = classifyKNN (trainData, zip(testMesh[0].ravel(), testMesh[1].ravel()), k, nClasses)\n",
    "    classColormap  = ListedColormap(['#FF0000', '#00FF00', '#2036f7'])\n",
    "    testColormap   = ListedColormap(['#FFAAAA', '#AAFFAA', '#AAAAAA'])\n",
    "    pl.pcolormesh(testMesh[0],\n",
    "                  testMesh[1],\n",
    "                  np.asarray(testMeshLabels).reshape(testMesh[0].shape),\n",
    "                  cmap=testColormap)\n",
    "    pl.scatter([trainData[i][0][0] for i in range(len(trainData))],\n",
    "               [trainData[i][0][1] for i in range(len(trainData))],\n",
    "               c=[trainData[i][1] for i in range(len(trainData))],\n",
    "               cmap=classColormap)\n",
    "    pl.show()"
   ]
  },
  {
   "cell_type": "code",
   "execution_count": 55,
   "metadata": {},
   "outputs": [],
   "source": [
    "nClasses = 3\n",
    "nItemInClass = 40\n",
    "testPercent = 0.01\n",
    "k = 10"
   ]
  },
  {
   "cell_type": "code",
   "execution_count": 60,
   "metadata": {},
   "outputs": [
    {
     "data": {
      "image/png": "[encoded data removed]",
      "text/plain": [
       "<Figure size 432x288 with 1 Axes>"
      ]
     },
     "metadata": {
      "needs_background": "light"
     },
     "output_type": "display_data"
    }
   ],
   "source": [
    "showData(nClasses, nItemInClass)"
   ]
  },
  {
   "cell_type": "code",
   "execution_count": 61,
   "metadata": {},
   "outputs": [
    {
     "data": {
      "image/png": "[encoded data removed]",
      "text/plain": [
       "<Figure size 432x288 with 1 Axes>"
      ]
     },
     "metadata": {
      "needs_background": "light"
     },
     "output_type": "display_data"
    }
   ],
   "source": [
    "showDataOnMesh(nClasses, nItemInClass, k)"
   ]
  },
  {
   "cell_type": "code",
   "execution_count": 62,
   "metadata": {},
   "outputs": [],
   "source": [
    "data = generateData(nItemInClass,nClasses)\n",
    "trainData, testDataWithLabels = splitTrainTest(data, testPercent)\n",
    "testData = [testDataWithLabels[i][0] for i in range(len(testDataWithLabels))]"
   ]
  },
  {
   "cell_type": "code",
   "execution_count": 63,
   "metadata": {},
   "outputs": [],
   "source": [
    "# Оценка, насколько хорошо работает классификатор\n",
    "def calculateAccuracy (nClasses, nItemsInClass, k, testPercent):\n",
    "    data = generateData(nItemInClass, nClasses)\n",
    "    trainData, testDataWithLabels = splitTrainTest(data, testPercent)\n",
    "    testData = [testDataWithLabels[i][0] for i in range(len(testDataWithLabels))]\n",
    "    testDataLabels = classifyKNN(trainData, testData, k, nClasses)\n",
    "    print (\"Точность: \", sum([int(testDataLabels[i]==testDataWithLabels[i][1]) for i in range(len(testDataWithLabels))]) / float(len(testDataWithLabels)))\n",
    "\n",
    "# сгенерируем данные, разобьем их на обучающую и тестовую выборку, произведем классификацию \n",
    "# объектов тестовой выборки и сравним реальное значение класса с полученным в результате классификации"
   ]
  },
  {
   "cell_type": "code",
   "execution_count": 64,
   "metadata": {},
   "outputs": [
    {
     "name": "stdout",
     "output_type": "stream",
     "text": [
      "Точность:  1.0\n"
     ]
    }
   ],
   "source": [
    "calculateAccuracy(nClasses, nItemInClass, k, testPercent)"
   ]
  }
 ],
 "metadata": {
  "kernelspec": {
   "display_name": "Python 3",
   "language": "python",
   "name": "python3"
  },
  "language_info": {
   "codemirror_mode": {
    "name": "ipython",
    "version": 3
   },
   "file_extension": ".py",
   "mimetype": "text/x-python",
   "name": "python",
   "nbconvert_exporter": "python",
   "pygments_lexer": "ipython3",
   "version": "3.8.3"
  }
 },
 "nbformat": 4,
 "nbformat_minor": 4
}
